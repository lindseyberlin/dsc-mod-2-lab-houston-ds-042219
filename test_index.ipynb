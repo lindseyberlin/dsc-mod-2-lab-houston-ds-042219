{
  "cells": [
    {
      "cell_type": "markdown",
      "source": [
        "# Test Notebook\n",
        "Run tests to make sur we are retrieving ans saving the stats per team\n",
        "and season\n"
      ],
      "metadata": {}
    },
    {
      "cell_type": "code",
      "source": [
        "# Auto reload external librairies.\n",
        "%load_ext autoreload\n",
        "%autoreload 2\n"
      ],
      "outputs": [],
      "execution_count": null,
      "metadata": {
        "collapsed": false,
        "outputHidden": false,
        "inputHidden": false
      }
    },
    {
      "cell_type": "code",
      "source": [
        "# Load necessary librairies ans classes\n",
        "from SqliteHandler import SqliteHandler\n",
        "from MongoHandler import MongoHandler\n",
        "from WeatherHandler import WeatherHandler\n",
        "from GameDataHandler import GameDataHandler\n",
        "import config\n",
        "\n",
        "# Retrieve / save data for season 2011\n",
        "sql_handler = SqliteHandler(config.STAT_SQLITE_DB)\n",
        "weather_handler = WeatherHandler(config.STAT_WEATHER_API_KEY)\n",
        "mongo_handler = MongoHandler(config.STAT_MONGO_CONNECTION, config.STAT_MONGO_DB_NAME)\n",
        "games_handler = GameDataHandler(sql_handler, weather_handler, mongo_handler)\n",
        "\n",
        "# Load stats for 2011 season\n",
        "games = games_handler.get_games_per_season(2011)\n"
      ],
      "outputs": [],
      "execution_count": null,
      "metadata": {
        "collapsed": false,
        "outputHidden": false,
        "inputHidden": false
      }
    },
    {
      "cell_type": "code",
      "source": [
        "# check that we got data\n",
        "print(games[0].away_team)\n",
        "print(games[0].home_team)\n",
        "print(games[0].ht_goals)\n",
        "print(games[0].at_goals)\n",
        "print(games[0].is_raining)\n",
        "\n",
        "# Check Game class method has_team_won()\n",
        "print(games[0].has_team_won('dsds'))\n",
        "print(games[0].has_team_won('Bayern Munich'))\n"
      ],
      "outputs": [],
      "execution_count": null,
      "metadata": {
        "collapsed": false,
        "outputHidden": false,
        "inputHidden": false
      }
    },
    {
      "cell_type": "code",
      "source": [
        "# Instantiate and retrieve/save stats for Bayern Munich team for 2011 season\n",
        "from TeamSeasonStatistics import TeamSeasonStatistics\n",
        "\n",
        "stats_bayern = TeamSeasonStatistics('Bayern Munich', 2011, games_handler, mongo_handler)\n",
        "\n",
        "print(stats_bayern.get_statistics())\n",
        "\n",
        "# Save into MongoDB\n",
        "stats_bayern.save()"
      ],
      "outputs": [],
      "execution_count": null,
      "metadata": {
        "collapsed": false,
        "outputHidden": false,
        "inputHidden": false
      }
    }
  ],
  "metadata": {
    "kernelspec": {
      "argv": [
        "/Users/francoisleralle/dev/anaconda/anaconda3/bin/python",
        "-m",
        "ipykernel_launcher",
        "-f",
        "{connection_file}"
      ],
      "display_name": "learn-env",
      "language": "python",
      "name": "learn-env"
    }
  },
  "nbformat": 4,
  "nbformat_minor": 0
}